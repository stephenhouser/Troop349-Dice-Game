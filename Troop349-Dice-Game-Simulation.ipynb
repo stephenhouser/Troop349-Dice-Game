{
  "nbformat": 4,
  "nbformat_minor": 0,
  "metadata": {
    "colab": {
      "name": "Troop 349 Game.ipynb",
      "version": "0.3.2",
      "provenance": [],
      "collapsed_sections": []
    },
    "kernelspec": {
      "name": "python3",
      "display_name": "Python 3"
    }
  },
  "cells": [
    {
      "metadata": {
        "id": "1Lm-oqd34mb4",
        "colab_type": "code",
        "colab": {}
      },
      "cell_type": "code",
      "source": [
        "import random\n",
        "import itertools"
      ],
      "execution_count": 0,
      "outputs": []
    },
    {
      "metadata": {
        "id": "8e49dSrwTugs",
        "colab_type": "code",
        "colab": {}
      },
      "cell_type": "code",
      "source": [
        "# What's on the die faces\n",
        "die_faces = (3, 4, 9)\n",
        "\n",
        "# Number of dice rolled by players for their turn\n",
        "n_dice = 3\n",
        "\n",
        "# Number of dice used to determine winning point total\n",
        "n_dice_win = 2"
      ],
      "execution_count": 0,
      "outputs": []
    },
    {
      "metadata": {
        "id": "Vr1kwe_HTbCz",
        "colab_type": "code",
        "colab": {}
      },
      "cell_type": "code",
      "source": [
        "# Pre-compute all the possible winning point totals \n",
        "# hint: it's fixed and all are equally likely (are they?)\n",
        "all_win_combinations = list(itertools.product(die_faces, repeat=n_dice_win))\n",
        "all_win_totals = tuple(map(lambda dice: int(str(dice[0]) + str(dice[1])), all_win_combinations))"
      ],
      "execution_count": 0,
      "outputs": []
    },
    {
      "metadata": {
        "id": "iPqj_IDOTeFH",
        "colab_type": "code",
        "colab": {}
      },
      "cell_type": "code",
      "source": [
        "# Pre-compute all the possible player rolls and their possible totals\n",
        "# this is a 2D structure, \n",
        "#    one entry for each possible roll combination\n",
        "#    then all the possible addition and subtraction combinations for the roll\n",
        "def possible_roll_totals(dice):\n",
        "  results = set()\n",
        "  # ---\n",
        "  results.add(- dice[0] - dice[1] - dice[2])\n",
        "  # --+\n",
        "  results.add(- dice[0] - dice[1] + dice[2])\n",
        "  # -+-\n",
        "  results.add(- dice[0] + dice[1] - dice[2])\n",
        "  # -++\n",
        "  results.add(- dice[0] + dice[1] + dice[2])\n",
        "  # +--\n",
        "  results.add(+ dice[0] - dice[1] - dice[2])\n",
        "  # +-+\n",
        "  results.add(+ dice[0] - dice[1] + dice[2])\n",
        "  # ++-\n",
        "  results.add(+ dice[0] + dice[1] - dice[2])\n",
        "  # +++\n",
        "  results.add(+ dice[0] + dice[1] + dice[2])\n",
        "  return list(results)\n",
        "\n",
        "all_roll_combinations = list(itertools.combinations_with_replacement(die_faces, n_dice))\n",
        "all_roll_totals = {}\n",
        "for dice in list(all_roll_combinations):\n",
        "    all_roll_totals[dice] = tuple(possible_roll_totals(dice))\n"
      ],
      "execution_count": 0,
      "outputs": []
    },
    {
      "metadata": {
        "id": "kQ7W58zQTj14",
        "colab_type": "code",
        "colab": {}
      },
      "cell_type": "code",
      "source": [
        "# Pre-compute maximum possible roll value\n",
        "# An optimization to get close to the target (win) value quickly\n",
        "max_roll_value = max(die_faces) * n_dice"
      ],
      "execution_count": 0,
      "outputs": []
    },
    {
      "metadata": {
        "id": "b_6suAl1TnX3",
        "colab_type": "code",
        "colab": {}
      },
      "cell_type": "code",
      "source": [
        "def roll_dice():\n",
        "  \"\"\"Simulate a roll of n_dice with die_faces on them and returns a list of the results.\"\"\"\n",
        "  return tuple(sorted(random.choices(die_faces, k=n_dice)))\n"
      ],
      "execution_count": 0,
      "outputs": []
    },
    {
      "metadata": {
        "id": "-z7ooVvqHupS",
        "colab_type": "code",
        "colab": {
          "base_uri": "https://localhost:8080/",
          "height": 127
        },
        "outputId": "a6233cef-b950-4c8e-8ba6-836dc85f371d"
      },
      "cell_type": "code",
      "source": [
        "print(all_win_totals)\n",
        "print(all_roll_totals)\n",
        "print(roll_dice())\n",
        "print(max_roll_value)\n",
        "random.choice(all_win_totals)"
      ],
      "execution_count": 365,
      "outputs": [
        {
          "output_type": "stream",
          "text": [
            "(33, 34, 39, 43, 44, 49, 93, 94, 99)\n",
            "{(3, 3, 3): (9, 3, -3, -9), (3, 3, 4): (2, 4, 10, -10, -4, -2), (3, 3, 9): (3, 9, 15, -15, -9, -3), (3, 4, 4): (3, 5, 11, -11, -5, -3), (3, 4, 9): (2, 8, 10, -16, 16, -10, -8, -2), (3, 9, 9): (3, -21, 15, -15, 21, -3), (4, 4, 4): (4, 12, -12, -4), (4, 4, 9): (1, 9, -17, 17, -9, -1), (4, 9, 9): (4, -22, 14, -14, 22, -4), (9, 9, 9): (9, 27, -27, -9)}\n",
            "(3, 3, 9)\n",
            "27\n"
          ],
          "name": "stdout"
        },
        {
          "output_type": "execute_result",
          "data": {
            "text/plain": [
              "33"
            ]
          },
          "metadata": {
            "tags": []
          },
          "execution_count": 365
        }
      ]
    },
    {
      "metadata": {
        "id": "uqKuN5-V68xK",
        "colab_type": "code",
        "colab": {}
      },
      "cell_type": "code",
      "source": [
        "def play_game(show_progress = False):\n",
        "  \"\"\"Simulate a game and reuturn the number of turns to win.\"\"\"\n",
        "  turns = 0\n",
        "  current_points = 0\n",
        "  win_points = random.choice(all_win_totals)\n",
        "  \n",
        "  if show_progress:\n",
        "    print('GAME: win = {} points'.format(win_points))\n",
        "  while current_points != win_points:\n",
        "    dice = roll_dice()\n",
        "    if show_progress:\n",
        "      print('TURN {}: points = {}, roll = {}, '.format(turns, current_points, dice), end='')\n",
        "    \n",
        "    # Optimize when current points is far below win_points\n",
        "    if current_points + sum(dice) < win_points:\n",
        "      turn_points = sum(dice)\n",
        "      if show_progress:\n",
        "        print('best = {}'.format(turn_points))\n",
        "    else:\n",
        "      target_choice = win_points - current_points\n",
        "      possible_combinations = all_roll_totals[dice]\n",
        "      turn_points = min(possible_combinations, key=lambda x:abs(x-target_choice))\n",
        "      if show_progress:\n",
        "        print('possible = {}, best = {}'.format(possible_combinations, turn_points))\n",
        "\n",
        "    current_points += turn_points\n",
        "    turns += 1\n",
        "      \n",
        "  return (turns, win_points)\n",
        "    "
      ],
      "execution_count": 0,
      "outputs": []
    },
    {
      "metadata": {
        "id": "bwhzoU2T8jC9",
        "colab_type": "code",
        "colab": {
          "base_uri": "https://localhost:8080/",
          "height": 153
        },
        "outputId": "dd96744f-8c96-45c6-e834-a848d06f341b"
      },
      "cell_type": "code",
      "source": [
        "play_game(True)"
      ],
      "execution_count": 367,
      "outputs": [
        {
          "output_type": "stream",
          "text": [
            "GAME: win = 49 points\n",
            "TURN 0: points = 0, roll = (3, 4, 9), best = 16\n",
            "TURN 1: points = 16, roll = (3, 4, 9), best = 16\n",
            "TURN 2: points = 32, roll = (4, 9, 9), possible = (4, -22, 14, -14, 22, -4), best = 14\n",
            "TURN 3: points = 46, roll = (3, 4, 9), possible = (2, 8, 10, -16, 16, -10, -8, -2), best = 2\n",
            "TURN 4: points = 48, roll = (3, 4, 4), possible = (3, 5, 11, -11, -5, -3), best = 3\n",
            "TURN 5: points = 51, roll = (3, 4, 9), possible = (2, 8, 10, -16, 16, -10, -8, -2), best = -2\n"
          ],
          "name": "stdout"
        },
        {
          "output_type": "execute_result",
          "data": {
            "text/plain": [
              "(6, 49)"
            ]
          },
          "metadata": {
            "tags": []
          },
          "execution_count": 367
        }
      ]
    },
    {
      "metadata": {
        "id": "_atKYA4PQat3",
        "colab_type": "code",
        "colab": {}
      },
      "cell_type": "code",
      "source": [
        "# Play a bunch of games and accumulate the number of turns and the win_points..\n",
        "games = []\n",
        "for g in range(250000):\n",
        "  games.append(play_game())\n",
        "  \n",
        "  \n",
        "print(games)"
      ],
      "execution_count": 0,
      "outputs": []
    },
    {
      "metadata": {
        "id": "w7-SD8DcW6-X",
        "colab_type": "code",
        "colab": {
          "base_uri": "https://localhost:8080/",
          "height": 347
        },
        "outputId": "27d068b0-9252-4ca8-fa88-08bedd1da550"
      },
      "cell_type": "code",
      "source": [
        "# Plot simple histogram of number of turns needed to win\n",
        "\n",
        "import matplotlib.pyplot as plt\n",
        "import numpy as np\n",
        "\n",
        "np_games = np.array(games)\n",
        "\n",
        "x = np_games[:,0]\n",
        "#y = np_games[:,1]\n",
        "\n",
        "n, bins, patches = plt.hist(x, bins=50, color='c', edgecolor='k', alpha=0.65)\n",
        "_, max_ = plt.ylim()\n",
        "\n",
        "median_turns = np.median(x)\n",
        "_ = plt.axvline(median_turns, color='g', linewidth=1)\n",
        "_ = plt.text(median_turns + median_turns/5, max_ - max_/10, 'Median: {:.0f}'.format(median_turns))\n",
        "\n",
        "mean_turns = x.mean()\n",
        "_ = plt.axvline(mean_turns, color='k', linewidth=1)\n",
        "_ = plt.text(mean_turns + mean_turns/5, max_ - max_/6.5, 'Mean: {:.2f}'.format(mean_turns))\n",
        "\n",
        "ninety_percent_turns = np.percentile(x, 95) \n",
        "_ = plt.axvline(ninety_percent_turns, color='r', linewidth=1)\n",
        "_ = plt.text(ninety_percent_turns + ninety_percent_turns/5, max_ - max_/5, '95%: {:.0f}'.format(ninety_percent_turns))"
      ],
      "execution_count": 369,
      "outputs": [
        {
          "output_type": "display_data",
          "data": {
            "image/png": "[encoded data removed]",
            "text/plain": [
              "<Figure size 576x396 with 1 Axes>"
            ]
          },
          "metadata": {
            "tags": []
          }
        }
      ]
    },
    {
      "metadata": {
        "id": "KP_TAcVeXjOz",
        "colab_type": "code",
        "colab": {}
      },
      "cell_type": "code",
      "source": [
        ""
      ],
      "execution_count": 0,
      "outputs": []
    }
  ]
}