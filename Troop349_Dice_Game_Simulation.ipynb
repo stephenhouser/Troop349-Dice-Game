{
  "nbformat": 4,
  "nbformat_minor": 0,
  "metadata": {
    "colab": {
      "name": "Troop349-Dice-Game-Simulation.ipynb",
      "version": "0.3.2",
      "provenance": [],
      "collapsed_sections": []
    },
    "kernelspec": {
      "name": "python3",
      "display_name": "Python 3"
    }
  },
  "cells": [
    {
      "metadata": {
        "id": "xCUilSYNY_f-",
        "colab_type": "text"
      },
      "cell_type": "markdown",
      "source": [
        "# Troop 349 The Dice Game Simulation\n",
        "\n",
        "Simulation of the _Troop 349 Dice Game_ to determine average play length in turns and the value of different winning point total choices.\n",
        "\n",
        "This notebook can be run interactively via Binder!\n",
        "\n",
        "[![Binder](https://mybinder.org/badge_logo.svg)](https://mybinder.org/v2/gh/stephenhouser/Troop349-Dice-Game/master?filepath=Troop349_Dice_Game_Simulation.ipynb)"
      ]
    },
    {
      "metadata": {
        "id": "1Lm-oqd34mb4",
        "colab_type": "code",
        "colab": {}
      },
      "cell_type": "code",
      "source": [
        "# Python imports for packages used later on.\n",
        "import random\n",
        "import itertools\n",
        "\n",
        "import matplotlib.pyplot as plt\n",
        "import numpy as np"
      ],
      "execution_count": 0,
      "outputs": []
    },
    {
      "metadata": {
        "id": "9q6-ct2cY9_i",
        "colab_type": "text"
      },
      "cell_type": "markdown",
      "source": [
        "## Customization\n",
        "Here you can tweak what's on the die faces, how many dice are rolled for each turn, and how many dice are used to set the initial winning point total.\n",
        "\n",
        "Only '349' has been extensively tested. Some values might perhaps make an unresolvable game! Adjust at your own risk."
      ]
    },
    {
      "metadata": {
        "id": "8e49dSrwTugs",
        "colab_type": "code",
        "colab": {}
      },
      "cell_type": "code",
      "source": [
        "# What's on the die faces\n",
        "die_faces = (3, 4, 9)\n",
        "\n",
        "# Number of dice rolled by players for their turn\n",
        "n_dice = 3\n",
        "\n",
        "# Number of dice used to determine winning point total\n",
        "n_dice_win = 2"
      ],
      "execution_count": 0,
      "outputs": []
    },
    {
      "metadata": {
        "id": "KckRB75GaAQ3",
        "colab_type": "text"
      },
      "cell_type": "markdown",
      "source": [
        "Some pre-computation to make our simulation go a bit quicker, or at least I think it will make it go quicker. Could just be premature optimization too.\n",
        "\n",
        "* Precompute all the possible winning point totals.\n",
        "\n",
        "* Precompute all the possible turn totals (all the combinations of dice and +/- based on the die faces and number of dice). Then we don't have to do the calculations at simulation time, we just look up the value that gets us closest to where we want to be.\n",
        "\n",
        "* Precompute the maximum poss"
      ]
    },
    {
      "metadata": {
        "id": "Vr1kwe_HTbCz",
        "colab_type": "code",
        "colab": {}
      },
      "cell_type": "code",
      "source": [
        "# Pre-compute all the possible winning point totals \n",
        "# hint: it's fixed and all are equally likely (are they?)\n",
        "all_win_combinations = list(itertools.product(die_faces, repeat=n_dice_win))\n",
        "all_win_totals = tuple(map(lambda dice: int(str(dice[0]) + str(dice[1])), all_win_combinations))"
      ],
      "execution_count": 0,
      "outputs": []
    },
    {
      "metadata": {
        "id": "iPqj_IDOTeFH",
        "colab_type": "code",
        "colab": {}
      },
      "cell_type": "code",
      "source": [
        "# Pre-compute all the possible player rolls and their possible totals\n",
        "# this is a 2D structure, \n",
        "#    one entry for each possible roll combination\n",
        "#    then all the possible addition and subtraction combinations for the roll\n",
        "def possible_roll_totals(dice):\n",
        "  results = set()\n",
        "  # ---\n",
        "  results.add(- dice[0] - dice[1] - dice[2])\n",
        "  # --+\n",
        "  results.add(- dice[0] - dice[1] + dice[2])\n",
        "  # -+-\n",
        "  results.add(- dice[0] + dice[1] - dice[2])\n",
        "  # -++\n",
        "  results.add(- dice[0] + dice[1] + dice[2])\n",
        "  # +--\n",
        "  results.add(+ dice[0] - dice[1] - dice[2])\n",
        "  # +-+\n",
        "  results.add(+ dice[0] - dice[1] + dice[2])\n",
        "  # ++-\n",
        "  results.add(+ dice[0] + dice[1] - dice[2])\n",
        "  # +++\n",
        "  results.add(+ dice[0] + dice[1] + dice[2])\n",
        "  return list(results)\n",
        "\n",
        "all_roll_combinations = list(itertools.combinations_with_replacement(die_faces, n_dice))\n",
        "all_roll_totals = {}\n",
        "for dice in list(all_roll_combinations):\n",
        "    all_roll_totals[dice] = tuple(possible_roll_totals(dice))\n"
      ],
      "execution_count": 0,
      "outputs": []
    },
    {
      "metadata": {
        "id": "ikgi8fVJanUo",
        "colab_type": "text"
      },
      "cell_type": "markdown",
      "source": [
        "## Die Rolling\n",
        "\n",
        "Here's the core function we use to roll the dice for each turn."
      ]
    },
    {
      "metadata": {
        "id": "b_6suAl1TnX3",
        "colab_type": "code",
        "colab": {}
      },
      "cell_type": "code",
      "source": [
        "def roll_dice():\n",
        "  \"\"\"Simulate a roll of n_dice with die_faces on them and returns a list of the results.\"\"\"\n",
        "  return tuple(sorted(random.choices(die_faces, k=n_dice)))\n"
      ],
      "execution_count": 0,
      "outputs": []
    },
    {
      "metadata": {
        "id": "PZWKkco2bBC2",
        "colab_type": "text"
      },
      "cell_type": "markdown",
      "source": [
        "## Intermediate Check\n",
        "This is just a diagnostic intermediate check of the precomputations that we have done. Give them a look and make sure they seem to make sense at this point."
      ]
    },
    {
      "metadata": {
        "id": "-z7ooVvqHupS",
        "colab_type": "code",
        "outputId": "e008275c-68d5-4d3d-9661-0037db7322b4",
        "colab": {
          "base_uri": "https://localhost:8080/",
          "height": 110
        }
      },
      "cell_type": "code",
      "source": [
        "print(all_win_totals)\n",
        "print(all_roll_totals)\n",
        "print(roll_dice())\n",
        "random.choice(all_win_totals)"
      ],
      "execution_count": 6,
      "outputs": [
        {
          "output_type": "stream",
          "text": [
            "(33, 34, 39, 43, 44, 49, 93, 94, 99)\n",
            "{(3, 3, 3): (9, 3, -3, -9), (3, 3, 4): (2, 4, 10, -10, -4, -2), (3, 3, 9): (3, 9, 15, -15, -9, -3), (3, 4, 4): (3, 5, 11, -11, -5, -3), (3, 4, 9): (2, 8, 10, -16, 16, -10, -8, -2), (3, 9, 9): (3, -21, 15, -15, 21, -3), (4, 4, 4): (4, 12, -12, -4), (4, 4, 9): (1, 9, -17, 17, -9, -1), (4, 9, 9): (4, -22, 14, -14, 22, -4), (9, 9, 9): (9, 27, -27, -9)}\n",
            "(3, 3, 9)\n"
          ],
          "name": "stdout"
        },
        {
          "output_type": "execute_result",
          "data": {
            "text/plain": [
              "99"
            ]
          },
          "metadata": {
            "tags": []
          },
          "execution_count": 6
        }
      ]
    },
    {
      "metadata": {
        "id": "EWm9JUOkbMD5",
        "colab_type": "text"
      },
      "cell_type": "markdown",
      "source": [
        "## Play A Game\n",
        "This is the main function used to simulate one play of the game. It selects a winning point total, and tracks the number of turns needed to get there. If passed `True` then will print some diagnostic information to the console as it does it's work.\n",
        "\n",
        "Returns a tuple of (number of turns played, the winning point total) which is used in our statistics computation later on."
      ]
    },
    {
      "metadata": {
        "id": "uqKuN5-V68xK",
        "colab_type": "code",
        "colab": {}
      },
      "cell_type": "code",
      "source": [
        "def play_game(show_progress = False):\n",
        "  \"\"\"Simulate a game and reuturn the number of turns to win.\"\"\"\n",
        "  turns = 0\n",
        "  current_points = 0\n",
        "  win_points = random.choice(all_win_totals)\n",
        "  \n",
        "  if show_progress:\n",
        "    print('GAME: win = {} points'.format(win_points))\n",
        "  while current_points != win_points:\n",
        "    dice = roll_dice()\n",
        "    if show_progress:\n",
        "      print('TURN {}: points = {}, roll = {}, '.format(turns, current_points, dice), end='')\n",
        "    \n",
        "    # Optimize when current points is far below win_points\n",
        "    if current_points + sum(dice) < win_points:\n",
        "      turn_points = sum(dice)\n",
        "      if show_progress:\n",
        "        print('best = {}'.format(turn_points))\n",
        "    else:\n",
        "      target_choice = win_points - current_points\n",
        "      possible_combinations = all_roll_totals[dice]\n",
        "      turn_points = min(possible_combinations, key=lambda x:abs(x-target_choice))\n",
        "      if show_progress:\n",
        "        print('possible = {}, best = {}'.format(possible_combinations, turn_points))\n",
        "\n",
        "    current_points += turn_points\n",
        "    turns += 1\n",
        "      \n",
        "  return (turns, win_points)\n",
        "    "
      ],
      "execution_count": 0,
      "outputs": []
    },
    {
      "metadata": {
        "id": "Obe14jQKbo9E",
        "colab_type": "text"
      },
      "cell_type": "markdown",
      "source": [
        "Simulate a sample game and show the progress."
      ]
    },
    {
      "metadata": {
        "id": "bwhzoU2T8jC9",
        "colab_type": "code",
        "outputId": "e840c5f4-99b0-4aec-dbcf-c644af01d6a1",
        "colab": {
          "base_uri": "https://localhost:8080/",
          "height": 136
        }
      },
      "cell_type": "code",
      "source": [
        "play_game(True)"
      ],
      "execution_count": 8,
      "outputs": [
        {
          "output_type": "stream",
          "text": [
            "GAME: win = 49 points\n",
            "TURN 0: points = 0, roll = (3, 4, 9), best = 16\n",
            "TURN 1: points = 16, roll = (3, 4, 9), best = 16\n",
            "TURN 2: points = 32, roll = (3, 4, 9), best = 16\n",
            "TURN 3: points = 48, roll = (3, 9, 9), possible = (3, -21, 15, -15, 21, -3), best = 3\n",
            "TURN 4: points = 51, roll = (3, 4, 9), possible = (2, 8, 10, -16, 16, -10, -8, -2), best = -2\n"
          ],
          "name": "stdout"
        },
        {
          "output_type": "execute_result",
          "data": {
            "text/plain": [
              "(5, 49)"
            ]
          },
          "metadata": {
            "tags": []
          },
          "execution_count": 8
        }
      ]
    },
    {
      "metadata": {
        "id": "-iSfso-QbwbO",
        "colab_type": "text"
      },
      "cell_type": "markdown",
      "source": [
        "## Simulate a Bunch of Games\n",
        "\n",
        "Now we are ready to simulate a whole bunch of games. How many is a whole bunch? Here it's 250,000 because things start running out of memory (or CPU time) when I adjust it to much more. Even when you do, the results don't vary that much, so it's _good enough_ for my purposes."
      ]
    },
    {
      "metadata": {
        "id": "_atKYA4PQat3",
        "colab_type": "code",
        "colab": {}
      },
      "cell_type": "code",
      "source": [
        "# Play a bunch of games and accumulate the number of turns and the win_points..\n",
        "games = []\n",
        "for n in range(250000):\n",
        "  games.append(play_game())\n",
        "  \n",
        "# Lots of output for each game  \n",
        "print(games)"
      ],
      "execution_count": 0,
      "outputs": []
    },
    {
      "metadata": {
        "id": "T70FPAajYa7O",
        "colab_type": "text"
      },
      "cell_type": "markdown",
      "source": [
        "## How Many Turns to Win?\n",
        "\n",
        "Here we plot a histogram of the number of turns it took to finish each of the games we simulated. This gives us an idea of how long games will take.\n",
        "\n",
        "Included in the histogram is the median (the number of turns for the middle-most game), the mean (the average number of turns needed), and the 95th percentile (the number of turns in which 95% of all simulated games were completed before)."
      ]
    },
    {
      "metadata": {
        "id": "w7-SD8DcW6-X",
        "colab_type": "code",
        "outputId": "a0894239-338a-4b0e-fc02-c4349c9eb0bb",
        "colab": {
          "base_uri": "https://localhost:8080/",
          "height": 347
        }
      },
      "cell_type": "code",
      "source": [
        "# Plot simple histogram of number of turns needed to win\n",
        "np_games = np.array(games)\n",
        "\n",
        "x = np_games[:,0]\n",
        "#y = np_games[:,1]\n",
        "\n",
        "n, bins, patches = plt.hist(x, bins=50, color='c', edgecolor='k', alpha=0.65)\n",
        "_, max_ = plt.ylim()\n",
        "\n",
        "median_turns = np.median(x)\n",
        "_ = plt.axvline(median_turns, color='g', linewidth=1)\n",
        "_ = plt.text(median_turns + median_turns/5, max_ - max_/10, 'Median: {:.0f}'.format(median_turns))\n",
        "\n",
        "mean_turns = x.mean()\n",
        "_ = plt.axvline(mean_turns, color='k', linewidth=1)\n",
        "_ = plt.text(mean_turns + mean_turns/5, max_ - max_/6.5, 'Mean: {:.2f}'.format(mean_turns))\n",
        "\n",
        "ninety_percent_turns = np.percentile(x, 95) \n",
        "_ = plt.axvline(ninety_percent_turns, color='r', linewidth=1)\n",
        "_ = plt.text(ninety_percent_turns + ninety_percent_turns/5, max_ - max_/5, '95%: {:.0f}'.format(ninety_percent_turns))"
      ],
      "execution_count": 10,
      "outputs": [
        {
          "output_type": "display_data",
          "data": {
            "image/png": "[encoded data removed]",
            "text/plain": [
              "<Figure size 576x396 with 1 Axes>"
            ]
          },
          "metadata": {
            "tags": []
          }
        }
      ]
    },
    {
      "metadata": {
        "id": "f0_qS8cMX3Go",
        "colab_type": "text"
      },
      "cell_type": "markdown",
      "source": [
        "## Winning Points Compared to Mean Turns to Win\n",
        "\n",
        "Compare the number of turns on average it takes to win a game with different winning point totals. This tells us how best to choose the winning point total from the inital die roll. E.g. is it better to choose `39` or `93`? Which will allow us to win faster than our opponent?\n"
      ]
    },
    {
      "metadata": {
        "id": "KP_TAcVeXjOz",
        "colab_type": "code",
        "outputId": "92c5da0f-5412-4fe2-e095-6bd2df04f63a",
        "colab": {
          "base_uri": "https://localhost:8080/",
          "height": 500
        }
      },
      "cell_type": "code",
      "source": [
        "# Where we will accumulate the mean number of turns to play a game \n",
        "# with each winning point total\n",
        "mean_turns = []\n",
        "\n",
        "# Loop for each winning point (these are discrete and precomputed above)\n",
        "for win_total in all_win_totals:\n",
        "    # filter for only games with this winning point total\n",
        "    games_wt = list(filter(lambda x: x[1] == win_total, games))\n",
        "    \n",
        "    # make a numpy array and select only the turns to play\n",
        "    np_turns = np.array(games_wt)[:,0]\n",
        "    \n",
        "    # append to our collection array for later plotting\n",
        "    mean_turns.append(np.mean(np_turns))\n",
        "    \n",
        "    # print some status details of our work\n",
        "    print(\"win points={}, n_games={}, median turns={:.2f}\".format(win_total, len(np_turns), np.mean(np_turns)))\n",
        "\n",
        "# Plot the mean turns for each winning point total\n",
        "y_pos = np.arange(len(all_win_totals)) \n",
        "plt.bar(y_pos, mean_turns, align='center', alpha=0.5)\n",
        "plt.xticks(y_pos, list(all_win_totals)) \n",
        "plt.show()    "
      ],
      "execution_count": 11,
      "outputs": [
        {
          "output_type": "stream",
          "text": [
            "win points=33, n_games=27617, median turns=6.37\n",
            "win points=34, n_games=28138, median turns=6.46\n",
            "win points=39, n_games=27734, median turns=6.79\n",
            "win points=43, n_games=27873, median turns=6.85\n",
            "win points=44, n_games=27855, median turns=7.04\n",
            "win points=49, n_games=27881, median turns=7.32\n",
            "win points=93, n_games=27307, median turns=10.05\n",
            "win points=94, n_games=27740, median turns=10.04\n",
            "win points=99, n_games=27855, median turns=10.41\n"
          ],
          "name": "stdout"
        },
        {
          "output_type": "display_data",
          "data": {
            "image/png": "[encoded data removed]",
            "text/plain": [
              "<Figure size 576x396 with 1 Axes>"
            ]
          },
          "metadata": {
            "tags": []
          }
        }
      ]
    },
    {
      "metadata": {
        "id": "B_6i92dTYY5P",
        "colab_type": "code",
        "colab": {}
      },
      "cell_type": "code",
      "source": [
        ""
      ],
      "execution_count": 0,
      "outputs": []
    }
  ]
}